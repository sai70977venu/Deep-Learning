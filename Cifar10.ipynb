{
  "nbformat": 4,
  "nbformat_minor": 0,
  "metadata": {
    "colab": {
      "name": "Cifar10.ipynb",
      "version": "0.3.2",
      "provenance": [],
      "include_colab_link": true
    },
    "kernelspec": {
      "name": "python3",
      "display_name": "Python 3"
    },
    "accelerator": "GPU"
  },
  "cells": [
    {
      "cell_type": "markdown",
      "metadata": {
        "id": "view-in-github",
        "colab_type": "text"
      },
      "source": [
        "<a href=\"https://colab.research.google.com/github/sai70977venu/Deep-Learning/blob/master/Cifar10.ipynb\" target=\"_parent\"><img src=\"https://colab.research.google.com/assets/colab-badge.svg\" alt=\"Open In Colab\"/></a>"
      ]
    },
    {
      "metadata": {
        "id": "3nq_bXkBaagA",
        "colab_type": "code",
        "outputId": "9adae529-cfd0-4ba8-def8-e0e9fe281c00",
        "colab": {
          "base_uri": "https://localhost:8080/",
          "height": 34
        }
      },
      "cell_type": "code",
      "source": [
        "import keras\n",
        "from keras.datasets import cifar10\n",
        "from keras.models import Sequential\n",
        "from keras.layers import Conv2D, MaxPooling2D, Dense, Dropout, Flatten\n",
        "from keras import regularizers\n",
        "from keras.optimizers import Adam\n",
        "import numpy as np"
      ],
      "execution_count": 1,
      "outputs": [
        {
          "output_type": "stream",
          "text": [
            "Using TensorFlow backend.\n"
          ],
          "name": "stderr"
        }
      ]
    },
    {
      "metadata": {
        "id": "OZRxjIX_a61-",
        "colab_type": "code",
        "outputId": "f0b09f64-6f63-4589-c9ee-9e84dff36e64",
        "colab": {
          "base_uri": "https://localhost:8080/",
          "height": 121
        }
      },
      "cell_type": "code",
      "source": [
        "(x_train, y_train), (x_test, y_test) = cifar10.load_data()\n",
        "print('x_train shape:', x_train.shape)\n",
        "print(x_train.shape[0], 'train samples')\n",
        "print(x_test.shape[0], 'test samples')\n",
        "y_train = keras.utils.to_categorical(y_train, 10)\n",
        "y_test = keras.utils.to_categorical(y_test, 10)\n",
        "shape = x_train[0].shape\n",
        "shape"
      ],
      "execution_count": 2,
      "outputs": [
        {
          "output_type": "stream",
          "text": [
            "Downloading data from https://www.cs.toronto.edu/~kriz/cifar-10-python.tar.gz\n",
            "170500096/170498071 [==============================] - 93s 1us/step\n",
            "x_train shape: (50000, 32, 32, 3)\n",
            "50000 train samples\n",
            "10000 test samples\n"
          ],
          "name": "stdout"
        },
        {
          "output_type": "execute_result",
          "data": {
            "text/plain": [
              "(32, 32, 3)"
            ]
          },
          "metadata": {
            "tags": []
          },
          "execution_count": 2
        }
      ]
    },
    {
      "metadata": {
        "id": "is8T9N6SbwVR",
        "colab_type": "code",
        "colab": {}
      },
      "cell_type": "code",
      "source": [
        "model = Sequential()\n",
        "model.add(Conv2D(64, (3, 3), activation = 'relu', padding = 'same', kernel_regularizer= regularizers.l2(0.001), input_shape = shape))\n",
        "model.add(MaxPooling2D(2, 2))\n",
        "model.add(Dropout(0.3))\n",
        "model.add(Conv2D(128, (3, 3), activation = 'relu', padding = 'same', kernel_regularizer= regularizers.l2(0.001)))\n",
        "model.add(MaxPooling2D(2, 2))\n",
        "model.add(Dropout(0.5))\n",
        "model.add(Flatten())\n",
        "model.add(Dense(4096, activation = 'relu'))\n",
        "model.add(Dropout(0.25))\n",
        "model.add(Dense(1024, activation = 'relu'))\n",
        "model.add(Dropout(0.25))\n",
        "model.add(Dense(10, activation = 'softmax'))\n",
        "model.compile(optimizer = Adam(lr = 0.0001 ), loss = 'categorical_crossentropy', metrics = ['accuracy'])"
      ],
      "execution_count": 0,
      "outputs": []
    },
    {
      "metadata": {
        "id": "0NqmY7TBIsD5",
        "colab_type": "code",
        "outputId": "dc259335-fae8-45d2-8c13-ae30d057bf64",
        "colab": {
          "base_uri": "https://localhost:8080/",
          "height": 920
        }
      },
      "cell_type": "code",
      "source": [
        "model.fit(x_train, y_train,\n",
        "         batch_size = 32, \n",
        "         epochs = 25,\n",
        "         validation_data =(x_test, y_test),\n",
        "         verbose = 1 )"
      ],
      "execution_count": 12,
      "outputs": [
        {
          "output_type": "stream",
          "text": [
            "Train on 50000 samples, validate on 10000 samples\n",
            "Epoch 1/25\n",
            "50000/50000 [==============================] - 102s 2ms/step - loss: 14.5739 - acc: 0.0999 - val_loss: 14.5601 - val_acc: 0.1000\n",
            "Epoch 2/25\n",
            "50000/50000 [==============================] - 99s 2ms/step - loss: 14.5513 - acc: 0.1000 - val_loss: 14.5431 - val_acc: 0.1000\n",
            "Epoch 3/25\n",
            "50000/50000 [==============================] - 100s 2ms/step - loss: 14.5358 - acc: 0.1000 - val_loss: 14.5290 - val_acc: 0.1000\n",
            "Epoch 4/25\n",
            "50000/50000 [==============================] - 98s 2ms/step - loss: 14.5231 - acc: 0.1000 - val_loss: 14.5178 - val_acc: 0.1000\n",
            "Epoch 5/25\n",
            "50000/50000 [==============================] - 98s 2ms/step - loss: 14.5139 - acc: 0.1000 - val_loss: 14.5107 - val_acc: 0.1000\n",
            "Epoch 6/25\n",
            "50000/50000 [==============================] - 98s 2ms/step - loss: 14.5088 - acc: 0.1000 - val_loss: 14.5074 - val_acc: 0.1000\n",
            "Epoch 7/25\n",
            "50000/50000 [==============================] - 98s 2ms/step - loss: 14.4964 - acc: 0.1007 - val_loss: 14.5070 - val_acc: 0.1000\n",
            "Epoch 8/25\n",
            "50000/50000 [==============================] - 100s 2ms/step - loss: 14.5068 - acc: 0.1000 - val_loss: 14.5067 - val_acc: 0.1000\n",
            "Epoch 9/25\n",
            "50000/50000 [==============================] - 99s 2ms/step - loss: 14.5066 - acc: 0.1000 - val_loss: 14.5065 - val_acc: 0.1000\n",
            "Epoch 10/25\n",
            "50000/50000 [==============================] - 99s 2ms/step - loss: 2.7589 - acc: 0.0993 - val_loss: 2.3030 - val_acc: 0.1000\n",
            "Epoch 11/25\n",
            "50000/50000 [==============================] - 98s 2ms/step - loss: 2.2930 - acc: 0.1070 - val_loss: 2.1926 - val_acc: 0.1651\n",
            "Epoch 12/25\n",
            "50000/50000 [==============================] - 99s 2ms/step - loss: 1.7721 - acc: 0.3434 - val_loss: 1.4985 - val_acc: 0.4739\n",
            "Epoch 13/25\n",
            "50000/50000 [==============================] - 100s 2ms/step - loss: 1.4531 - acc: 0.4745 - val_loss: 1.2476 - val_acc: 0.5584\n",
            "Epoch 14/25\n",
            "50000/50000 [==============================] - 99s 2ms/step - loss: 1.3117 - acc: 0.5329 - val_loss: 1.1782 - val_acc: 0.5846\n",
            "Epoch 15/25\n",
            "50000/50000 [==============================] - 99s 2ms/step - loss: 1.2028 - acc: 0.5684 - val_loss: 1.0291 - val_acc: 0.6463\n",
            "Epoch 16/25\n",
            "50000/50000 [==============================] - 98s 2ms/step - loss: 1.1248 - acc: 0.6020 - val_loss: 0.9970 - val_acc: 0.6511\n",
            "Epoch 17/25\n",
            "50000/50000 [==============================] - 99s 2ms/step - loss: 1.0508 - acc: 0.6289 - val_loss: 0.9283 - val_acc: 0.6822\n",
            "Epoch 18/25\n",
            "50000/50000 [==============================] - 100s 2ms/step - loss: 0.9824 - acc: 0.6539 - val_loss: 0.8912 - val_acc: 0.6928\n",
            "Epoch 19/25\n",
            "50000/50000 [==============================] - 99s 2ms/step - loss: 0.9282 - acc: 0.6751 - val_loss: 0.8510 - val_acc: 0.7064\n",
            "Epoch 20/25\n",
            "50000/50000 [==============================] - 98s 2ms/step - loss: 0.8667 - acc: 0.6957 - val_loss: 0.8349 - val_acc: 0.7142\n",
            "Epoch 21/25\n",
            "50000/50000 [==============================] - 98s 2ms/step - loss: 0.8176 - acc: 0.7134 - val_loss: 0.8004 - val_acc: 0.7254\n",
            "Epoch 22/25\n",
            "50000/50000 [==============================] - 99s 2ms/step - loss: 0.7734 - acc: 0.7285 - val_loss: 0.7885 - val_acc: 0.7314\n",
            "Epoch 23/25\n",
            "50000/50000 [==============================] - 100s 2ms/step - loss: 0.7273 - acc: 0.7447 - val_loss: 0.7773 - val_acc: 0.7338\n",
            "Epoch 24/25\n",
            "50000/50000 [==============================] - 99s 2ms/step - loss: 0.6867 - acc: 0.7606 - val_loss: 0.7788 - val_acc: 0.7365\n",
            "Epoch 25/25\n",
            "50000/50000 [==============================] - 99s 2ms/step - loss: 0.6428 - acc: 0.7740 - val_loss: 0.7513 - val_acc: 0.7412\n"
          ],
          "name": "stdout"
        },
        {
          "output_type": "execute_result",
          "data": {
            "text/plain": [
              "<keras.callbacks.History at 0x7f4ed2ffd748>"
            ]
          },
          "metadata": {
            "tags": []
          },
          "execution_count": 12
        }
      ]
    }
  ]
}